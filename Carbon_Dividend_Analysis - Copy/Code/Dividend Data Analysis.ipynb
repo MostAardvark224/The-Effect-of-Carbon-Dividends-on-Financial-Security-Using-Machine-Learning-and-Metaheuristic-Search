{
 "cells": [
  {
   "cell_type": "code",
   "execution_count": 88,
   "id": "d7d7d9b5-3f42-485d-ac4c-4b032d22d159",
   "metadata": {
    "tags": []
   },
   "outputs": [],
   "source": [
    "import pandas as pd \n",
    "import numpy as np"
   ]
  },
  {
   "cell_type": "code",
   "execution_count": 89,
   "id": "e84f27e8-2e70-4005-8b93-e749ea6b6e4c",
   "metadata": {
    "tags": []
   },
   "outputs": [
    {
     "data": {
      "text/html": [
       "<div>\n",
       "<style scoped>\n",
       "    .dataframe tbody tr th:only-of-type {\n",
       "        vertical-align: middle;\n",
       "    }\n",
       "\n",
       "    .dataframe tbody tr th {\n",
       "        vertical-align: top;\n",
       "    }\n",
       "\n",
       "    .dataframe thead th {\n",
       "        text-align: right;\n",
       "    }\n",
       "</style>\n",
       "<table border=\"1\" class=\"dataframe\">\n",
       "  <thead>\n",
       "    <tr style=\"text-align: right;\">\n",
       "      <th></th>\n",
       "      <th>original_FSRI</th>\n",
       "      <th>decile</th>\n",
       "      <th>per_person_income</th>\n",
       "      <th>equal_new_FSRI</th>\n",
       "      <th>equal_FSRI_diff</th>\n",
       "      <th>GA_new_FSRI</th>\n",
       "      <th>GA_FSRI_diff</th>\n",
       "    </tr>\n",
       "    <tr>\n",
       "      <th>CaseID</th>\n",
       "      <th></th>\n",
       "      <th></th>\n",
       "      <th></th>\n",
       "      <th></th>\n",
       "      <th></th>\n",
       "      <th></th>\n",
       "      <th></th>\n",
       "    </tr>\n",
       "  </thead>\n",
       "  <tbody>\n",
       "    <tr>\n",
       "      <th>1</th>\n",
       "      <td>0.506667</td>\n",
       "      <td>2</td>\n",
       "      <td>9000.000000</td>\n",
       "      <td>0.506687</td>\n",
       "      <td>0.000019</td>\n",
       "      <td>0.506680</td>\n",
       "      <td>0.000013</td>\n",
       "    </tr>\n",
       "    <tr>\n",
       "      <th>2</th>\n",
       "      <td>0.835760</td>\n",
       "      <td>10</td>\n",
       "      <td>180000.000000</td>\n",
       "      <td>0.835672</td>\n",
       "      <td>-0.000089</td>\n",
       "      <td>0.835689</td>\n",
       "      <td>-0.000071</td>\n",
       "    </tr>\n",
       "    <tr>\n",
       "      <th>3</th>\n",
       "      <td>0.724871</td>\n",
       "      <td>8</td>\n",
       "      <td>72168.783649</td>\n",
       "      <td>0.724826</td>\n",
       "      <td>-0.000045</td>\n",
       "      <td>0.724813</td>\n",
       "      <td>-0.000058</td>\n",
       "    </tr>\n",
       "    <tr>\n",
       "      <th>4</th>\n",
       "      <td>0.736793</td>\n",
       "      <td>8</td>\n",
       "      <td>80000.000000</td>\n",
       "      <td>0.736748</td>\n",
       "      <td>-0.000045</td>\n",
       "      <td>0.736735</td>\n",
       "      <td>-0.000058</td>\n",
       "    </tr>\n",
       "    <tr>\n",
       "      <th>5</th>\n",
       "      <td>0.668898</td>\n",
       "      <td>6</td>\n",
       "      <td>45000.000000</td>\n",
       "      <td>0.668877</td>\n",
       "      <td>-0.000022</td>\n",
       "      <td>0.668894</td>\n",
       "      <td>-0.000004</td>\n",
       "    </tr>\n",
       "    <tr>\n",
       "      <th>...</th>\n",
       "      <td>...</td>\n",
       "      <td>...</td>\n",
       "      <td>...</td>\n",
       "      <td>...</td>\n",
       "      <td>...</td>\n",
       "      <td>...</td>\n",
       "      <td>...</td>\n",
       "    </tr>\n",
       "    <tr>\n",
       "      <th>11771</th>\n",
       "      <td>0.726079</td>\n",
       "      <td>7</td>\n",
       "      <td>70710.678119</td>\n",
       "      <td>0.726397</td>\n",
       "      <td>0.000318</td>\n",
       "      <td>0.726393</td>\n",
       "      <td>0.000314</td>\n",
       "    </tr>\n",
       "    <tr>\n",
       "      <th>11772</th>\n",
       "      <td>0.665022</td>\n",
       "      <td>6</td>\n",
       "      <td>46188.021535</td>\n",
       "      <td>0.665001</td>\n",
       "      <td>-0.000022</td>\n",
       "      <td>0.665018</td>\n",
       "      <td>-0.000004</td>\n",
       "    </tr>\n",
       "    <tr>\n",
       "      <th>11773</th>\n",
       "      <td>0.681576</td>\n",
       "      <td>7</td>\n",
       "      <td>55901.699437</td>\n",
       "      <td>0.681544</td>\n",
       "      <td>-0.000031</td>\n",
       "      <td>0.681541</td>\n",
       "      <td>-0.000035</td>\n",
       "    </tr>\n",
       "    <tr>\n",
       "      <th>11774</th>\n",
       "      <td>0.736793</td>\n",
       "      <td>8</td>\n",
       "      <td>80000.000000</td>\n",
       "      <td>0.736748</td>\n",
       "      <td>-0.000045</td>\n",
       "      <td>0.736735</td>\n",
       "      <td>-0.000058</td>\n",
       "    </tr>\n",
       "    <tr>\n",
       "      <th>11775</th>\n",
       "      <td>0.427753</td>\n",
       "      <td>1</td>\n",
       "      <td>1272.792206</td>\n",
       "      <td>0.427783</td>\n",
       "      <td>0.000030</td>\n",
       "      <td>0.427766</td>\n",
       "      <td>0.000013</td>\n",
       "    </tr>\n",
       "  </tbody>\n",
       "</table>\n",
       "<p>11215 rows × 7 columns</p>\n",
       "</div>"
      ],
      "text/plain": [
       "        original_FSRI  decile  per_person_income  equal_new_FSRI  \\\n",
       "CaseID                                                             \n",
       "1            0.506667       2        9000.000000        0.506687   \n",
       "2            0.835760      10      180000.000000        0.835672   \n",
       "3            0.724871       8       72168.783649        0.724826   \n",
       "4            0.736793       8       80000.000000        0.736748   \n",
       "5            0.668898       6       45000.000000        0.668877   \n",
       "...               ...     ...                ...             ...   \n",
       "11771        0.726079       7       70710.678119        0.726397   \n",
       "11772        0.665022       6       46188.021535        0.665001   \n",
       "11773        0.681576       7       55901.699437        0.681544   \n",
       "11774        0.736793       8       80000.000000        0.736748   \n",
       "11775        0.427753       1        1272.792206        0.427783   \n",
       "\n",
       "        equal_FSRI_diff  GA_new_FSRI  GA_FSRI_diff  \n",
       "CaseID                                              \n",
       "1              0.000019     0.506680      0.000013  \n",
       "2             -0.000089     0.835689     -0.000071  \n",
       "3             -0.000045     0.724813     -0.000058  \n",
       "4             -0.000045     0.736735     -0.000058  \n",
       "5             -0.000022     0.668894     -0.000004  \n",
       "...                 ...          ...           ...  \n",
       "11771          0.000318     0.726393      0.000314  \n",
       "11772         -0.000022     0.665018     -0.000004  \n",
       "11773         -0.000031     0.681541     -0.000035  \n",
       "11774         -0.000045     0.736735     -0.000058  \n",
       "11775          0.000030     0.427766      0.000013  \n",
       "\n",
       "[11215 rows x 7 columns]"
      ]
     },
     "execution_count": 89,
     "metadata": {},
     "output_type": "execute_result"
    }
   ],
   "source": [
    "pdf = pd.read_excel(r\"C:\\Users\\...\\Carbon_Dividend_Analysis\\Data\\Dividend_Data.xlsx\", index_col='CaseID')\n",
    "pdf"
   ]
  },
  {
   "cell_type": "code",
   "execution_count": 90,
   "id": "65c3351d-1921-49e0-aac4-91b79b7c7008",
   "metadata": {
    "tags": []
   },
   "outputs": [],
   "source": [
    "# Equal Dividends Analysis:"
   ]
  },
  {
   "cell_type": "code",
   "execution_count": 91,
   "id": "c8007269-e25c-4e98-9974-218b33f139c7",
   "metadata": {
    "tags": []
   },
   "outputs": [
    {
     "name": "stdout",
     "output_type": "stream",
     "text": [
      "0.0018891393553716394\n"
     ]
    }
   ],
   "source": [
    "# Mean Beneift\n",
    "mean_benefit = np.mean(pdf[\"equal_FSRI_diff\"])\n",
    "print(mean_benefit)"
   ]
  },
  {
   "cell_type": "code",
   "execution_count": 92,
   "id": "cbe4708b-b54b-41f9-b9b3-da9f47e17d96",
   "metadata": {
    "tags": []
   },
   "outputs": [
    {
     "name": "stdout",
     "output_type": "stream",
     "text": [
      "Mean benefit for bottom half: 0.004119249340097074\n"
     ]
    }
   ],
   "source": [
    "# Mean benefit for bottom half\n",
    "mean_bottom_ben = pdf.loc[pdf['decile'] <= 5, \"equal_FSRI_diff\"].mean()\n",
    "print(f\"Mean benefit for bottom half: {mean_bottom_ben}\")"
   ]
  },
  {
   "cell_type": "code",
   "execution_count": 93,
   "id": "30dc14e1-62fb-4b5c-8382-4d392a30e25b",
   "metadata": {
    "tags": []
   },
   "outputs": [
    {
     "name": "stdout",
     "output_type": "stream",
     "text": [
      "Mean benefit for top half: -0.00039524928745276577\n"
     ]
    }
   ],
   "source": [
    "# Mean benefit for top half\n",
    "mean_top_ben = pdf.loc[pdf['decile'] >= 5, \"equal_FSRI_diff\"].mean()\n",
    "print(f\"Mean benefit for top half: {mean_top_ben}\")"
   ]
  },
  {
   "cell_type": "code",
   "execution_count": 94,
   "id": "97894710-ed99-44a0-b1b9-722f31080ff5",
   "metadata": {
    "tags": []
   },
   "outputs": [],
   "source": [
    "# Dividend ALlocation Analysis"
   ]
  },
  {
   "cell_type": "code",
   "execution_count": 95,
   "id": "da35b8e6-1e82-449e-9953-6e14c46c4e58",
   "metadata": {
    "tags": []
   },
   "outputs": [
    {
     "name": "stdout",
     "output_type": "stream",
     "text": [
      "0.004975834790479378\n"
     ]
    }
   ],
   "source": [
    "# Mean Beneift\n",
    "GA_mean_benefit = np.mean(pdf[\"GA_FSRI_diff\"])\n",
    "print(GA_mean_benefit)"
   ]
  },
  {
   "cell_type": "code",
   "execution_count": 96,
   "id": "8fa0134c-a125-43d2-b12e-79e50f12bbe3",
   "metadata": {
    "tags": []
   },
   "outputs": [
    {
     "name": "stdout",
     "output_type": "stream",
     "text": [
      "GA Mean benefit for bottom half: 0.00980164446009582\n"
     ]
    }
   ],
   "source": [
    "# Mean benefit and income for bottom half\n",
    "GA_mean_bottom_ben = pdf.loc[pdf['decile'] <= 5, \"GA_FSRI_diff\"].mean()\n",
    "print(f\"GA Mean benefit for bottom half: {GA_mean_bottom_ben}\")"
   ]
  },
  {
   "cell_type": "code",
   "execution_count": 97,
   "id": "174c5fcb-ba46-457f-b9c5-7d45ed145f16",
   "metadata": {
    "tags": []
   },
   "outputs": [
    {
     "name": "stdout",
     "output_type": "stream",
     "text": [
      "GA Mean benefit for top half: -9.231369468459901e-05\n"
     ]
    }
   ],
   "source": [
    "# Mean benefit and income for top half\n",
    "GA_mean_top_ben = pdf.loc[pdf['decile'] >= 5, \"GA_FSRI_diff\"].mean()\n",
    "print(f\"GA Mean benefit for top half: {GA_mean_top_ben}\")"
   ]
  },
  {
   "cell_type": "code",
   "execution_count": 98,
   "id": "94e3b948-ee1d-4a7e-a479-3194210f05d5",
   "metadata": {
    "tags": []
   },
   "outputs": [],
   "source": [
    "# Comparison"
   ]
  },
  {
   "cell_type": "code",
   "execution_count": 99,
   "id": "dafa81c0-bb10-4c8d-8bdb-7bab5af4f2ab",
   "metadata": {
    "tags": []
   },
   "outputs": [
    {
     "name": "stdout",
     "output_type": "stream",
     "text": [
      "GA's scenario is 0.003086695435107739 percent higher than an equal dividends scenario\n"
     ]
    }
   ],
   "source": [
    "mean_diff = GA_mean_benefit - mean_benefit\n",
    "mean_percent = mean_diff * 100\n",
    "print(f\"GA's scenario is {mean_diff} percent higher than an equal dividends scenario\")"
   ]
  },
  {
   "cell_type": "code",
   "execution_count": 100,
   "id": "298016ed-91c9-4388-8983-526bc14a1f0c",
   "metadata": {
    "tags": []
   },
   "outputs": [
    {
     "name": "stdout",
     "output_type": "stream",
     "text": [
      "GA's scenario for the bottom half is 0.5682395119998747 percent higher than an equal dividends scenario\n"
     ]
    }
   ],
   "source": [
    "bottom_half_diff = GA_mean_bottom_ben - mean_bottom_ben\n",
    "bottom_half_diff_percent = bottom_half_diff * 100\n",
    "print(f\"GA's scenario for the bottom half is {bottom_half_diff_percent} percent higher than an equal dividends scenario\")"
   ]
  },
  {
   "cell_type": "code",
   "execution_count": 101,
   "id": "10203928-e6b7-4a36-9423-7f992c199d10",
   "metadata": {
    "tags": []
   },
   "outputs": [
    {
     "name": "stdout",
     "output_type": "stream",
     "text": [
      "GA's scenario for the top half is 0.030293559276816675 percent higher than an equal dividends scenario\n"
     ]
    }
   ],
   "source": [
    "top_half_diff = GA_mean_top_ben - mean_top_ben\n",
    "top_half_diff_percent = top_half_diff * 100\n",
    "print(f\"GA's scenario for the top half is {top_half_diff_percent} percent higher than an equal dividends scenario\")"
   ]
  }
 ],
 "metadata": {
  "kernelspec": {
   "display_name": "Python 3 (ipykernel)",
   "language": "python",
   "name": "python3"
  },
  "language_info": {
   "codemirror_mode": {
    "name": "ipython",
    "version": 3
   },
   "file_extension": ".py",
   "mimetype": "text/x-python",
   "name": "python",
   "nbconvert_exporter": "python",
   "pygments_lexer": "ipython3",
   "version": "3.11.5"
  }
 },
 "nbformat": 4,
 "nbformat_minor": 5
}
